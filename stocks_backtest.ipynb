{
  "nbformat": 4,
  "nbformat_minor": 0,
  "metadata": {
    "colab": {
      "name": "stocks backtest.ipynb",
      "provenance": [],
      "collapsed_sections": []
    },
    "kernelspec": {
      "name": "python3",
      "display_name": "Python 3"
    },
    "language_info": {
      "name": "python"
    }
  },
  "cells": [
    {
      "cell_type": "markdown",
      "metadata": {
        "id": "en94ZU-jZGAb"
      },
      "source": [
        "**Как пользоваться: в единственной ячейке вводишь данные по тикерам и нажимаешь в верхней части Среда выполнения -> Выполнить все (Ctrl + F9).**\n",
        "\n",
        "График котировок строится по High цене, в качестве цены покупки можно выбрать High, Low или среднюю между ними цену (поле buy_price в ячейке параметров)."
      ]
    },
    {
      "cell_type": "code",
      "metadata": {
        "cellView": "form",
        "id": "N02J4oXXytVG"
      },
      "source": [
        "#@title\n",
        "%%capture\n",
        "!pip install pandas_market_calendars"
      ],
      "execution_count": null,
      "outputs": []
    },
    {
      "cell_type": "code",
      "metadata": {
        "id": "XGlRMrKQ8lhH",
        "cellView": "form"
      },
      "source": [
        "#@title\n",
        "import numpy as np\n",
        "import pandas as pd\n",
        "import datetime as dt\n",
        "import pandas_datareader.data as web\n",
        "import matplotlib.pyplot as plt\n",
        "import pandas_market_calendars as mcal"
      ],
      "execution_count": null,
      "outputs": []
    },
    {
      "cell_type": "code",
      "metadata": {
        "cellView": "form",
        "id": "BdKK4WLKYU5S"
      },
      "source": [
        "#@title Введите тикеры акций, дату покупки, ожидаемую прибыль в процентах, выберите цену покупки (High, Low, Median)\n",
        "#@markdown\n",
        " \n",
        "tickers = 'TER, RIO, SHAK, AMCR, ZUMZ, IRTC, SFIX, SMPL, VRSN, FTNT, RPD, LYV'  #@param {type: \"string\"}\n",
        "buy_date = '2021-03-02'  #@param {type: \"date\"}\n",
        "desired_profit = 3.05  #@param {type: \"number\"}\n",
        "buy_price = \"Median\"  #@param ['High', 'Low', 'Median']\n",
        "#@markdown ---"
      ],
      "execution_count": null,
      "outputs": []
    },
    {
      "cell_type": "code",
      "metadata": {
        "cellView": "form",
        "id": "pmb_k0MZTB-x"
      },
      "source": [
        "#@title\n",
        "def parse_tickers():\n",
        "  # разбираем строчку тикеров\n",
        "  tickers_list = \"\".join(tickers.split())\n",
        "  tickers_list = tickers_list.split(',')\n",
        "  return tickers_list"
      ],
      "execution_count": null,
      "outputs": []
    },
    {
      "cell_type": "code",
      "metadata": {
        "cellView": "form",
        "id": "DkLeIreJPAT-"
      },
      "source": [
        "#@title\n",
        "def input_data_process(ticker):\n",
        "  buy_date_list = list(map(int, buy_date.split('-')))\n",
        "  pd_start_date = pd.Timestamp(buy_date)\n",
        "\n",
        "  # берём временной интервал от введённой даты покупки до вчерашнего дня,\n",
        "  # т.к. за сегодня ещё нет окончательных данных\n",
        "  start = dt.datetime(year=buy_date_list[0], month=buy_date_list[1], day=buy_date_list[2])\n",
        "  end = dt.datetime.now() - dt.timedelta(days = 1)\n",
        "\n",
        "  #определение цены покупки\n",
        "  price_on_buy_date = web.DataReader([ticker], 'yahoo', start, start)\n",
        "  if buy_price == 'High':\n",
        "    buy_price_usd = price_on_buy_date['High']\n",
        "  elif buy_price == 'Low':\n",
        "    buy_price_usd = price_on_buy_date['Low']\n",
        "  elif buy_price == 'Median':\n",
        "    buy_price_usd = (price_on_buy_date['High'] + price_on_buy_date['Low']) / 2  \n",
        "\n",
        "  # определяем дни торгов в рассматриваемом интервале дат\n",
        "  nyse = mcal.get_calendar('NYSE')\n",
        "  open_markets_days = nyse.schedule(start_date=pd.Timestamp(buy_date), end_date=pd.Timestamp(end))    \n",
        "\n",
        "  return pd_start_date, start, end, buy_price_usd, open_markets_days"
      ],
      "execution_count": null,
      "outputs": []
    },
    {
      "cell_type": "code",
      "metadata": {
        "cellView": "form",
        "id": "4mVUiwU-O-2M"
      },
      "source": [
        "#@title\n",
        "def get_quotes(ticker, start, end, buy_price_usd):\n",
        "  stock_prices = web.DataReader([ticker], 'yahoo', start, end)\n",
        "  stock_high = pd.DataFrame(stock_prices)['High']\n",
        "\n",
        "  # расчёт ожидаемой цены с учётом заданной доходности  \n",
        "  desired_price = buy_price_usd[ticker].item() * (1 + float(desired_profit) / 100)\n",
        "\n",
        "  days_to_get_profit = None\n",
        "  for index, row in stock_high.iterrows(): \n",
        "      if (row.values >= desired_price):\n",
        "          days_to_get_profit = index.date() - pd_start_date.date()\n",
        "          break\n",
        "\n",
        "  return desired_price, stock_high, days_to_get_profit"
      ],
      "execution_count": null,
      "outputs": []
    },
    {
      "cell_type": "code",
      "metadata": {
        "cellView": "form",
        "id": "c2Hs9uAERbiJ"
      },
      "source": [
        "#@title\n",
        "def print_chart(ticker, buy_price_usd, desired_price, stock_high, days_to_get_profit, open_markets_days):\n",
        "  fig, ax = plt.subplots(figsize=(16,9))\n",
        "\n",
        "  print(ticker)\n",
        "  buy_price_usd_format = format(buy_price_usd[ticker].item(), '.2f')\n",
        "  print('цена покупки :', buy_price_usd_format)\n",
        "  desired_price_format = format(desired_price, '.2f')\n",
        "  print('цена с учётом ожидаемой доходности', desired_profit, 'процентов :', desired_price_format)\n",
        "  if days_to_get_profit is None:\n",
        "    print('ожидаемая доходность не достигнута')  \n",
        "  else:\n",
        "    print('достижение ожидаемой доходности заняло', days_to_get_profit.days, 'дней')\n",
        "\n",
        "  tick = stock_high.loc[:, ticker]\n",
        "  ax.plot(tick.index, tick, label=ticker)\n",
        "  ax.plot(open_markets_days.axes[0], [desired_price] * open_markets_days.shape[0], label='Desired price, $')\n",
        "  ax.set_xlabel('Date')\n",
        "  ax.set_ylabel('Close price, $')\n",
        "  ax.legend()\n",
        "  ax.grid()  \n",
        "  plt.pause(0.05)"
      ],
      "execution_count": null,
      "outputs": []
    },
    {
      "cell_type": "code",
      "metadata": {
        "id": "RYAZvqT3SFR5",
        "cellView": "form"
      },
      "source": [
        "#@title\n",
        "tickers_list = parse_tickers()\n",
        "for ticker in tickers_list:\n",
        "  pd_start_date, start, end, buy_price_usd, open_markets_days = input_data_process(ticker)\n",
        "  desired_price, stock_high, days_to_get_profit = get_quotes(ticker, start, end, buy_price_usd)\n",
        "  print_chart(ticker, buy_price_usd, desired_price, stock_high, days_to_get_profit, open_markets_days)"
      ],
      "execution_count": null,
      "outputs": []
    },
    {
      "cell_type": "code",
      "metadata": {
        "id": "mkxGZncETlvk"
      },
      "source": [
        ""
      ],
      "execution_count": null,
      "outputs": []
    }
  ]
}